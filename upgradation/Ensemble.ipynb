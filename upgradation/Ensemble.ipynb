{
  "nbformat": 4,
  "nbformat_minor": 0,
  "metadata": {
    "colab": {
      "name": "Ensemble.ipynb",
      "provenance": []
    },
    "kernelspec": {
      "name": "python3",
      "display_name": "Python 3"
    },
    "language_info": {
      "name": "python"
    }
  },
  "cells": [
    {
      "cell_type": "code",
      "metadata": {
        "id": "q_rgwqAW5D7_"
      },
      "source": [
        "import numpy as np\n",
        "import matplotlib.pyplot as plt\n",
        "import pandas as pd\n",
        "import itertools\n",
        "import time\n",
        "import matplotlib.pyplot as plt\n",
        "import seaborn as sns\n",
        "%matplotlib inline"
      ],
      "execution_count": 1,
      "outputs": []
    },
    {
      "cell_type": "code",
      "metadata": {
        "id": "Nr8KVQCO5LjJ"
      },
      "source": [
        "def plot_confusion_matrix(cm, classes,\n",
        "                          normalize=False,\n",
        "                          title='Confusion matrix',\n",
        "                          cmap=plt.cm.Blues):\n",
        "    plt.imshow(cm, interpolation='nearest', cmap=cmap)\n",
        "    plt.title(title)\n",
        "    plt.colorbar()\n",
        "    tick_marks = np.arange(len(classes))\n",
        "    plt.xticks(tick_marks, classes, rotation=45)\n",
        "    plt.yticks(tick_marks, classes)\n",
        "\n",
        "    fmt = '.2f' if normalize else 'd'\n",
        "    thresh = cm.max() / 2.\n",
        "    for i, j in itertools.product(range(cm.shape[0]), range(cm.shape[1])):\n",
        "        plt.text(j, i, format(cm[i, j], fmt),\n",
        "                 horizontalalignment=\"center\",\n",
        "                 color=\"white\" if cm[i, j] > thresh else \"black\")\n",
        "\n",
        "    plt.tight_layout()\n",
        "    plt.ylabel('True label')\n",
        "    plt.xlabel('Predicted label') \n",
        "\n",
        "def metrics(labels, predictions):\n",
        "    true_pos, true_neg, false_pos, false_neg = 0, 0, 0, 0\n",
        "    for i in range(len(labels)):\n",
        "        true_pos += int(labels[i] == 1 and predictions[i] == 1)\n",
        "        true_neg += int(labels[i] == 0 and predictions[i] == 0)\n",
        "        false_pos += int(labels[i] == 0 and predictions[i] == 1)\n",
        "        false_neg += int(labels[i] == 1 and predictions[i] == 0)\n",
        "    precision = true_pos / (true_pos + false_pos)\n",
        "    recall = true_pos / (true_pos + false_neg)\n",
        "    Fscore = 2 * precision * recall / (precision + recall)\n",
        "    accuracy = (true_pos + true_neg) / (true_pos + true_neg + false_pos + false_neg)\n",
        "\n",
        "    print(\"Precision: \", round(precision,2))\n",
        "    print(\"Recall: \", round(recall,2))\n",
        "    print(\"F-score: \", round(Fscore,2))\n",
        "    print(\"Accuracy: \", round(accuracy,2))"
      ],
      "execution_count": 19,
      "outputs": []
    },
    {
      "cell_type": "code",
      "metadata": {
        "colab": {
          "base_uri": "https://localhost:8080/"
        },
        "id": "1zsitgWe5Na4",
        "outputId": "c80ec510-c125-4c27-c14b-c9054fff1b1c"
      },
      "source": [
        "from google.colab import drive\n",
        "drive.mount('/content/drive')"
      ],
      "execution_count": 3,
      "outputs": [
        {
          "output_type": "stream",
          "name": "stdout",
          "text": [
            "Mounted at /content/drive\n"
          ]
        }
      ]
    },
    {
      "cell_type": "code",
      "metadata": {
        "id": "py07Fdub5O1q"
      },
      "source": [
        "url = '/content/drive/MyDrive/AIDatasets/Detecting-Depression-in-Tweets-master/sentiment_tweets3.csv'\n",
        "dataset = pd.read_csv(url)"
      ],
      "execution_count": 5,
      "outputs": []
    },
    {
      "cell_type": "code",
      "metadata": {
        "id": "nijg9zxL5QIS"
      },
      "source": [
        "# Dropping column \"unnamed\"\n",
        "dataset = dataset.drop('Unnamed: 0',axis=1)"
      ],
      "execution_count": 6,
      "outputs": []
    },
    {
      "cell_type": "code",
      "metadata": {
        "colab": {
          "base_uri": "https://localhost:8080/"
        },
        "id": "HMD_ING-5SCm",
        "outputId": "4f67ead8-dd03-4cbe-8e11-3bb013d589c6"
      },
      "source": [
        "import re\n",
        "import nltk\n",
        "nltk.download('stopwords')\n",
        "from nltk.corpus import stopwords\n",
        "from nltk.stem.porter import PorterStemmer"
      ],
      "execution_count": 7,
      "outputs": [
        {
          "output_type": "stream",
          "name": "stdout",
          "text": [
            "[nltk_data] Downloading package stopwords to /root/nltk_data...\n",
            "[nltk_data]   Unzipping corpora/stopwords.zip.\n"
          ]
        }
      ]
    },
    {
      "cell_type": "code",
      "metadata": {
        "id": "eRbaorgq5VUu"
      },
      "source": [
        "corpus = []\n",
        "for i in range(0,10314):\n",
        "    tweet = dataset['message'][i]\n",
        "    tweet = re.sub(r'(https?:\\/\\/)(\\s)*(www\\.)?(\\s)*((\\w|\\s)+\\.)*([\\w\\-\\s]+\\/)*([\\w\\-]+)((\\?)?[\\w\\s]*=\\s*[\\w\\%&]*)*', ' ', tweet) # remove urls\n",
        "    tweet = re.sub(r'#', '', tweet) # remove hashtag symbol\n",
        "    tweet = re.sub(r'<([^>]*)>', ' ', tweet) # remove emojis\n",
        "    tweet = re.sub('[^a-zA-Z]',' ', tweet) \n",
        "    tweet = tweet.lower()\n",
        "    tweet = tweet.split()\n",
        "    ps = PorterStemmer()\n",
        "    tweet = [ps.stem(word) for word in tweet if not word in set(stopwords.words('english'))]\n",
        "    tweet = ' '.join(tweet)\n",
        "    corpus.append(tweet)"
      ],
      "execution_count": 8,
      "outputs": []
    },
    {
      "cell_type": "code",
      "metadata": {
        "colab": {
          "base_uri": "https://localhost:8080/"
        },
        "id": "f_OyPk1V5ZAY",
        "outputId": "ad4d2198-367f-4ec3-e084-90a9de672326"
      },
      "source": [
        "# Creating dataframe of cleaned data\n",
        "df = pd.DataFrame({'message':corpus, 'label':dataset['label']})\n",
        "df.head(),df.tail()"
      ],
      "execution_count": 9,
      "outputs": [
        {
          "output_type": "execute_result",
          "data": {
            "text/plain": [
              "(                                             message  label\n",
              " 0                 real good moment missssssssss much      0\n",
              " 1                                         read manga      0\n",
              " 2                                       comeagainjen      0\n",
              " 3  lapcat need send em account tomorrow oddli eve...      0\n",
              " 4                    add myspac myspac com lookthund      0,\n",
              "                                                  message  label\n",
              " 10309      depress g herbo mood done stress peopl deserv      1\n",
              " 10310  depress succumb brain make feel like never enough      1\n",
              " 10311  ketamin nasal spray show promis depress suicid...      1\n",
              " 10312             dont mistak bad day depress everyon em      1\n",
              " 10313                                                         1)"
            ]
          },
          "metadata": {},
          "execution_count": 9
        }
      ]
    },
    {
      "cell_type": "code",
      "metadata": {
        "id": "RKCK1Kin5eKJ"
      },
      "source": [
        "from sklearn.feature_extraction.text import CountVectorizer\n",
        "from sklearn.metrics import confusion_matrix, classification_report\n",
        "from sklearn.feature_extraction.text import CountVectorizer\n",
        "from sklearn import metrics"
      ],
      "execution_count": 10,
      "outputs": []
    },
    {
      "cell_type": "code",
      "metadata": {
        "id": "lO4nEEm95fb5"
      },
      "source": [
        "cv = CountVectorizer(max_features=400) #18153\n",
        "X = cv.fit_transform(corpus).toarray()\n",
        "y = dataset['label']"
      ],
      "execution_count": 11,
      "outputs": []
    },
    {
      "cell_type": "code",
      "metadata": {
        "id": "oIp_pd6h5gqQ"
      },
      "source": [
        "from sklearn.model_selection import train_test_split\n",
        "X_train, X_test, y_train, y_test = train_test_split(X,y, test_size=0.25, random_state=0) "
      ],
      "execution_count": 12,
      "outputs": []
    },
    {
      "cell_type": "code",
      "metadata": {
        "id": "o1SlZY4b5hyA"
      },
      "source": [
        "from sklearn.ensemble import VotingClassifier\n",
        "from sklearn.naive_bayes import GaussianNB\n",
        "from sklearn.ensemble import RandomForestClassifier, VotingClassifier\n",
        "from sklearn.tree import DecisionTreeClassifier\n",
        "from sklearn.neighbors import KNeighborsClassifier"
      ],
      "execution_count": 13,
      "outputs": []
    },
    {
      "cell_type": "markdown",
      "metadata": {
        "id": "VXKdf1bI5owS"
      },
      "source": [
        "## MAX VOTING"
      ]
    },
    {
      "cell_type": "code",
      "metadata": {
        "id": "SXU424LY5lPb"
      },
      "source": [
        "model1 = GaussianNB()\n",
        "model2 = DecisionTreeClassifier(criterion = 'entropy', random_state = 0)\n",
        "model3 = KNeighborsClassifier(n_neighbors = 32, metric = 'minkowski', p = 2)                        #select optimum n_neghbors and p?\n",
        "model = VotingClassifier(estimators=[('gnb', model1), ('dt', model2),('knn',model3)], voting='hard')\n",
        "# model.fit(X_train,y_train)\n",
        "# model.score(X_test,y_test) #alt to the v cell"
      ],
      "execution_count": 14,
      "outputs": []
    },
    {
      "cell_type": "code",
      "metadata": {
        "id": "cMtJlfWS5r7I"
      },
      "source": [
        "model = model.fit(X_train,y_train)\n",
        "y_pred = model.predict(X_test)"
      ],
      "execution_count": 15,
      "outputs": []
    },
    {
      "cell_type": "code",
      "metadata": {
        "id": "nesRTsB35tx8"
      },
      "source": [
        "from sklearn.metrics import confusion_matrix\n",
        "cm_max_vot = confusion_matrix(y_test, y_pred)"
      ],
      "execution_count": 16,
      "outputs": []
    },
    {
      "cell_type": "code",
      "metadata": {
        "colab": {
          "base_uri": "https://localhost:8080/",
          "height": 311
        },
        "id": "2akHHSq-5vEX",
        "outputId": "f8a90e11-ee61-4992-f65c-91a01878140b"
      },
      "source": [
        "plot_confusion_matrix(cm_max_vot,[0,1],title='Ensemble Max Voting')"
      ],
      "execution_count": 17,
      "outputs": [
        {
          "output_type": "display_data",
          "data": {
            "image/png": "[encoded data removed]",
            "text/plain": [
              "<Figure size 432x288 with 2 Axes>"
            ]
          },
          "metadata": {
            "needs_background": "light"
          }
        }
      ]
    },
    {
      "cell_type": "code",
      "metadata": {
        "colab": {
          "base_uri": "https://localhost:8080/"
        },
        "id": "T4bwmzZ85wId",
        "outputId": "17e4b5b6-33f4-4a0f-f5a9-3b3808b167c1"
      },
      "source": [
        "metrics(list(y_test),list(y_pred))"
      ],
      "execution_count": 20,
      "outputs": [
        {
          "output_type": "stream",
          "name": "stdout",
          "text": [
            "Precision:  1.0\n",
            "Recall:  0.99\n",
            "F-score:  0.99\n",
            "Accuracy:  1.0\n"
          ]
        }
      ]
    }
  ]
}