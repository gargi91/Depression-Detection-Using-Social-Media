{
  "nbformat": 4,
  "nbformat_minor": 0,
  "metadata": {
    "colab": {
      "name": "Deep_Learning_ImplementationFINAL.ipynb",
      "provenance": [],
      "collapsed_sections": []
    },
    "kernelspec": {
      "display_name": "Python 3",
      "name": "python3"
    },
    "language_info": {
      "name": "python"
    }
  },
  "cells": [
    {
      "cell_type": "code",
      "metadata": {
        "id": "tdDo9bZ4M2WE"
      },
      "source": [
        "#loading the libraries\n",
        "import pandas as pd\n",
        "import numpy as np\n",
        "import os\n",
        "import matplotlib.pyplot as plt\n",
        "import seaborn as sn\n",
        "import pickle\n",
        "import itertools\n",
        "\n",
        "%matplotlib inline\n",
        "\n",
        "#Import module to split the datasets\n",
        "from sklearn.model_selection import train_test_split\n",
        "# Import modules to evaluate the metrics\n",
        "from sklearn import metrics\n",
        "from sklearn.metrics import confusion_matrix,accuracy_score,roc_auc_score,roc_curve,auc\n",
        "import pandas as pd"
      ],
      "execution_count": 4,
      "outputs": []
    },
    {
      "cell_type": "code",
      "metadata": {
        "colab": {
          "base_uri": "https://localhost:8080/"
        },
        "id": "z_tZZtWomPBS",
        "outputId": "4b4fff10-c7c4-4f9e-dc21-faedc64b51ad"
      },
      "source": [
        "from google.colab import drive\n",
        "drive.mount('/content/drive')"
      ],
      "execution_count": 5,
      "outputs": [
        {
          "output_type": "stream",
          "name": "stdout",
          "text": [
            "Drive already mounted at /content/drive; to attempt to forcibly remount, call drive.mount(\"/content/drive\", force_remount=True).\n"
          ]
        }
      ]
    },
    {
      "cell_type": "code",
      "metadata": {
        "id": "g_FvLd_KNA9l"
      },
      "source": [
        "path = '/content/drive/MyDrive/AIDatasets/Detecting-Depression-in-Tweets-master/sentiment_tweets3.csv'\n",
        "filepath_dict = {'yelp': 'sentiment labelled sentences/yelp_labelled.txt' ,'amazon': 'sentiment labelled sentences /amazon_cells_labelled.txt','imdb':'sentiment labelled sentences/imdb_labelled.txt'}\n"
      ],
      "execution_count": 6,
      "outputs": []
    },
    {
      "cell_type": "code",
      "metadata": {
        "colab": {
          "base_uri": "https://localhost:8080/"
        },
        "id": "DiXfbiWfNCRc",
        "outputId": "28653267-5e61-4ebd-f61f-e47d62c11d3d"
      },
      "source": [
        "df = []\n",
        "df = pd.read_csv(\"/content/drive/MyDrive/AIDatasets/Detecting-Depression-in-Tweets-master/sentiment_tweets3.csv\")\n",
        "\n",
        "print(df.head())"
      ],
      "execution_count": 7,
      "outputs": [
        {
          "output_type": "stream",
          "name": "stdout",
          "text": [
            "   Unnamed: 0                                            message  label\n",
            "0         106  just had a real good moment. i missssssssss hi...      0\n",
            "1         217         is reading manga  http://plurk.com/p/mzp1e      0\n",
            "2         220  @comeagainjen http://twitpic.com/2y2lx - http:...      0\n",
            "3         288  @lapcat Need to send 'em to my accountant tomo...      0\n",
            "4         540      ADD ME ON MYSPACE!!!  myspace.com/LookThunder      0\n"
          ]
        }
      ]
    },
    {
      "cell_type": "code",
      "metadata": {
        "colab": {
          "base_uri": "https://localhost:8080/"
        },
        "id": "PA8IUCsRTFT2",
        "outputId": "ea9cbde9-12ad-4770-ed80-53297f55a391"
      },
      "source": [
        "import re\n",
        "import nltk\n",
        "nltk.download('stopwords')\n",
        "from nltk.corpus import stopwords\n",
        "from nltk.stem.porter import PorterStemmer\n",
        "corpus = []\n",
        "for i in range(0,10314):\n",
        "    tweet = df['message'][i]\n",
        "    tweet = re.sub(r'(https?:\\/\\/)(\\s)*(www\\.)?(\\s)*((\\w|\\s)+\\.)*([\\w\\-\\s]+\\/)*([\\w\\-]+)((\\?)?[\\w\\s]*=\\s*[\\w\\%&]*)*', ' ', tweet) # remove urls\n",
        "    tweet = re.sub(r'#', '', tweet) # remove hashtag symbol\n",
        "    tweet = re.sub(r'<([^>]*)>', ' ', tweet) # remove emojis\n",
        "    tweet = re.sub('[^a-zA-Z]',' ', tweet) \n",
        "    tweet = tweet.lower()\n",
        "    tweet = tweet.split()\n",
        "#     ps = PorterStemmer()\n",
        "    tweet = [word for word in tweet if not word in set(stopwords.words('english'))]\n",
        "    tweet = ' '.join(tweet)\n",
        "    corpus.append(tweet)"
      ],
      "execution_count": 8,
      "outputs": [
        {
          "output_type": "stream",
          "name": "stdout",
          "text": [
            "[nltk_data] Downloading package stopwords to /root/nltk_data...\n",
            "[nltk_data]   Unzipping corpora/stopwords.zip.\n"
          ]
        }
      ]
    },
    {
      "cell_type": "code",
      "metadata": {
        "id": "-27D-kvKOcq5"
      },
      "source": [
        "from sklearn.model_selection import train_test_split\n",
        "from keras.preprocessing.text import Tokenizer\n",
        "from keras.preprocessing.sequence import pad_sequences\n",
        "# df_yelp = df[df['source'] == 'yelp']\n",
        "\n",
        "# sentences = df['message'].values\n",
        "# y = df['label'].values\n",
        "sentences = corpus\n",
        "y = df['label'].values\n",
        "\n",
        "sentences_train,sentences_test,y_train,y_test = train_test_split(\n",
        "                                                sentences, y,  \n",
        "                                                test_size=0.25,  \n",
        "                                                random_state=1000)\n",
        "\n",
        "tokenizer = Tokenizer(num_words=5000)\n",
        "tokenizer.fit_on_texts(sentences_train)\n",
        "\n",
        "X_train = tokenizer.texts_to_sequences(sentences_train)\n",
        "X_test = tokenizer.texts_to_sequences(sentences_test)\n",
        "# Adding 1 because of  reserved 0 index\n",
        "vocab_size = len(tokenizer.word_index) + 1                          \n",
        "\n",
        "maxlen = 100\n",
        "\n",
        "X_train = pad_sequences(X_train, padding='post', maxlen=maxlen)\n",
        "X_test = pad_sequences(X_test, padding='post', maxlen=maxlen)"
      ],
      "execution_count": 9,
      "outputs": []
    },
    {
      "cell_type": "code",
      "metadata": {
        "id": "3hykjaMbO3M0"
      },
      "source": [
        "import numpy as np\n",
        "\n",
        "def create_embedding_matrix(filepath, word_index, embedding_dim):  #using GloVe\n",
        "    vocab_size = len(word_index) + 1  \n",
        "    # Adding again 1 because of reserved 0 index\n",
        "    embedding_matrix = np.zeros((vocab_size, embedding_dim))\n",
        "\n",
        "    with open(filepath) as f:\n",
        "        for line in f:\n",
        "            word, *vector = line.split()\n",
        "            if word in word_index:\n",
        "                idx = word_index[word] \n",
        "                embedding_matrix[idx] = np.array(vector, dtype=np.float32)[:embedding_dim]\n",
        "\n",
        "    return embedding_matrix"
      ],
      "execution_count": 10,
      "outputs": []
    },
    {
      "cell_type": "code",
      "metadata": {
        "id": "UfXllhvSPHUz"
      },
      "source": [
        "embedding_dim = 50\n",
        "embedding_matrix = create_embedding_matrix('/content/drive/MyDrive/AIDatasets/glove.6B.50d.txt' ,tokenizer.word_index, embedding_dim)"
      ],
      "execution_count": 11,
      "outputs": []
    },
    {
      "cell_type": "code",
      "metadata": {
        "id": "8ojUFxK415tm"
      },
      "source": [
        "# F1 score as a metrics in model training\n",
        "\n",
        "from keras import backend as K\n",
        "def recall_m(y_true, y_pred):\n",
        "    true_positives = K.sum(K.round(K.clip(y_true * y_pred, 0, 1)))\n",
        "    possible_positives = K.sum(K.round(K.clip(y_true, 0, 1)))\n",
        "    recall = true_positives / (possible_positives + K.epsilon())\n",
        "    return recall\n",
        "\n",
        "def precision_m(y_true, y_pred):\n",
        "    true_positives = K.sum(K.round(K.clip(y_true * y_pred, 0, 1)))\n",
        "    predicted_positives = K.sum(K.round(K.clip(y_pred, 0, 1)))\n",
        "    precision = true_positives / (predicted_positives + K.epsilon())\n",
        "    return precision\n",
        "\n",
        "def f1_m(y_true, y_pred):\n",
        "    precision = precision_m(y_true, y_pred)\n",
        "    recall = recall_m(y_true, y_pred)\n",
        "    return 2*((precision*recall)/(precision+recall+K.epsilon()))"
      ],
      "execution_count": 12,
      "outputs": []
    },
    {
      "cell_type": "code",
      "metadata": {
        "colab": {
          "base_uri": "https://localhost:8080/"
        },
        "id": "qZYJmMdEPVTj",
        "outputId": "473824c9-71a4-4b77-ad85-d77e1ad707be"
      },
      "source": [
        "from keras.models import Sequential\n",
        "from keras import layers\n",
        "embedding_dim = 100\n",
        "\n",
        "model = Sequential()\n",
        "model.add(layers.Embedding(vocab_size, embedding_dim, input_length=maxlen))\n",
        "model.add(layers.Conv1D(128, 5, activation='relu'))\n",
        "model.add(layers.GlobalMaxPooling1D())\n",
        "model.add(layers.Dense(10, activation='relu'))\n",
        "model.add(layers.Dense(1, activation='sigmoid'))\n",
        "\n",
        "\n",
        "#LSTM layer added [NEEDS WORK]\n",
        "\n",
        "# model = Sequential()\n",
        "# model.add(layers.Embedding(vocab_size, embedding_dim, input_length=maxlen))\n",
        "# #model.add(layers.Conv1D(128, 5, activation='relu'))\n",
        "# model.add(layers.LSTM(128, dropout=0.1, recurrent_dropout=0.1))\n",
        "# model.add(layers.GlobalMaxPooling1D())\n",
        "# model.add(layers.Dense(10, activation='relu'))\n",
        "# model.add(layers.Dense(1, activation='sigmoid'))\n",
        "\n",
        "\n",
        "model.compile(optimizer='adam',\n",
        "              loss='binary_crossentropy',\n",
        "              metrics=['accuracy', f1_m])\n",
        "history = model.fit(X_train, y_train,\n",
        "                    epochs=10,\n",
        "                    validation_data=(X_test, y_test),\n",
        "                    batch_size=16)"
      ],
      "execution_count": 16,
      "outputs": [
        {
          "output_type": "stream",
          "name": "stdout",
          "text": [
            "Epoch 1/10\n",
            "484/484 [==============================] - 15s 29ms/step - loss: 0.2102 - accuracy: 0.9463 - f1_m: 0.7548 - val_loss: 0.1404 - val_accuracy: 0.9957 - val_f1_m: 0.9489\n",
            "Epoch 2/10\n",
            "484/484 [==============================] - 14s 29ms/step - loss: 0.1156 - accuracy: 0.9972 - f1_m: 0.9745 - val_loss: 0.1054 - val_accuracy: 0.9969 - val_f1_m: 0.9575\n",
            "Epoch 3/10\n",
            "484/484 [==============================] - 14s 29ms/step - loss: 0.0527 - accuracy: 0.9988 - f1_m: 0.9863 - val_loss: 0.0251 - val_accuracy: 0.9965 - val_f1_m: 0.9513\n",
            "Epoch 4/10\n",
            "484/484 [==============================] - 14s 29ms/step - loss: 0.0042 - accuracy: 0.9988 - f1_m: 0.9809 - val_loss: 0.0224 - val_accuracy: 0.9969 - val_f1_m: 0.9575\n",
            "Epoch 5/10\n",
            "484/484 [==============================] - 14s 28ms/step - loss: 0.0030 - accuracy: 0.9994 - f1_m: 0.9738 - val_loss: 0.0250 - val_accuracy: 0.9969 - val_f1_m: 0.9575\n",
            "Epoch 6/10\n",
            "484/484 [==============================] - 14s 29ms/step - loss: 0.0030 - accuracy: 0.9991 - f1_m: 0.9838 - val_loss: 0.0247 - val_accuracy: 0.9969 - val_f1_m: 0.9575\n",
            "Epoch 7/10\n",
            "484/484 [==============================] - 14s 29ms/step - loss: 0.0031 - accuracy: 0.9994 - f1_m: 0.9845 - val_loss: 0.0209 - val_accuracy: 0.9969 - val_f1_m: 0.9568\n",
            "Epoch 8/10\n",
            "484/484 [==============================] - 14s 29ms/step - loss: 0.0030 - accuracy: 0.9994 - f1_m: 0.9778 - val_loss: 0.0252 - val_accuracy: 0.9965 - val_f1_m: 0.9563\n",
            "Epoch 9/10\n",
            "484/484 [==============================] - 14s 28ms/step - loss: 0.0029 - accuracy: 0.9994 - f1_m: 0.9679 - val_loss: 0.0270 - val_accuracy: 0.9965 - val_f1_m: 0.9563\n",
            "Epoch 10/10\n",
            "484/484 [==============================] - 14s 29ms/step - loss: 0.0030 - accuracy: 0.9994 - f1_m: 0.9752 - val_loss: 0.0216 - val_accuracy: 0.9969 - val_f1_m: 0.9568\n"
          ]
        }
      ]
    },
    {
      "cell_type": "code",
      "metadata": {
        "id": "Gi21S7rwR_VD"
      },
      "source": [
        "# loss, accuracy = model.evaluate(X_train, y_train, verbose=False)\n",
        "# print(\"Training Accuracy: {:.4f}\".format(accuracy))\n",
        "# loss, accuracy = model.evaluate(X_test, y_test, verbose=False)\n",
        "# print(\"Testing Accuracy:  {:.4f}\".format(accuracy))"
      ],
      "execution_count": null,
      "outputs": []
    },
    {
      "cell_type": "code",
      "metadata": {
        "id": "zFko1V3TYQXF"
      },
      "source": [
        "import matplotlib.pyplot as plt\n",
        "plt.style.use('ggplot')\n",
        "\n",
        "def plot_history(history):\n",
        "    acc = history.history['accuracy']\n",
        "    val_acc = history.history['val_accuracy']\n",
        "    loss = history.history['loss']\n",
        "    val_loss = history.history['val_loss']\n",
        "    x = range(1, len(acc) + 1)\n",
        "\n",
        "    plt.figure(figsize=(12, 5))\n",
        "    plt.subplot(1, 2, 1)\n",
        "    plt.plot(x, acc, 'b', label='Training acc')\n",
        "    plt.plot(x, val_acc, 'r', label='Validation acc')\n",
        "    plt.title('Training and validation accuracy')\n",
        "    plt.legend()\n",
        "    plt.subplot(1, 2, 2)\n",
        "    plt.plot(x, loss, 'b', label='Training loss')\n",
        "    plt.plot(x, val_loss, 'r', label='Validation loss')\n",
        "    plt.title('Training and validation loss')\n",
        "    plt.legend()"
      ],
      "execution_count": 17,
      "outputs": []
    },
    {
      "cell_type": "code",
      "metadata": {
        "colab": {
          "base_uri": "https://localhost:8080/",
          "height": 337
        },
        "id": "M5JkJj2cYGCd",
        "outputId": "e1ef82e2-6dfe-442a-d73a-14e3610053ca"
      },
      "source": [
        "plot_history(history)"
      ],
      "execution_count": null,
      "outputs": [
        {
          "data": {
            "image/png": "[encoded data removed]",
            "text/plain": [
              "<Figure size 864x360 with 2 Axes>"
            ]
          },
          "metadata": {},
          "output_type": "display_data"
        }
      ]
    },
    {
      "cell_type": "markdown",
      "metadata": {
        "id": "WcI-nlGkSnKj"
      },
      "source": [
        "# -------------------------------------------------------------------------"
      ]
    },
    {
      "cell_type": "code",
      "metadata": {
        "id": "0UDj9RrRRItL"
      },
      "source": [
        "def metrics(labels, predictions):\n",
        "    true_pos, true_neg, false_pos, false_neg = 0, 0, 0, 0\n",
        "    for i in range(len(labels)):\n",
        "        true_pos += int(labels[i] == 1 and predictions[i] == 1)\n",
        "        true_neg += int(labels[i] == 0 and predictions[i] == 0)\n",
        "        false_pos += int(labels[i] == 0 and predictions[i] == 1)\n",
        "        false_neg += int(labels[i] == 1 and predictions[i] == 0)\n",
        "    precision = true_pos / (true_pos + false_pos)\n",
        "    recall = true_pos / (true_pos + false_neg)\n",
        "    Fscore = 2 * precision * recall / (precision + recall)\n",
        "    accuracy = (true_pos + true_neg) / (true_pos + true_neg + false_pos + false_neg)\n",
        "\n",
        "    print(\"Precision: \", precision)\n",
        "    print(\"Recall: \", recall)\n",
        "    print(\"F-score: \", Fscore)\n",
        "    print(\"Accuracy: \", accuracy)\n",
        "\n",
        "\n",
        "def plot_confusion_matrix(cm, classes,normalize=False,title='Confusion matrix',cmap=plt.cm.Blues):\n",
        "    plt.imshow(cm, interpolation='nearest', cmap=cmap)\n",
        "    plt.title(title)\n",
        "    plt.colorbar()\n",
        "    tick_marks = np.arange(len(classes))\n",
        "    plt.xticks(tick_marks, classes, rotation=45)\n",
        "    plt.yticks(tick_marks, classes)\n",
        "\n",
        "    fmt = '.2f' if normalize else 'd'\n",
        "    thresh = cm.max() / 2.\n",
        "    for i, j in itertools.product(range(cm.shape[0]), range(cm.shape[1])):\n",
        "        plt.text(j, i, format(cm[i, j], fmt),horizontalalignment=\"center\",color=\"white\" if cm[i, j] > thresh else \"black\")\n",
        "\n",
        "    plt.tight_layout()\n",
        "    plt.ylabel('True label')\n",
        "    plt.xlabel('Predicted label')"
      ],
      "execution_count": null,
      "outputs": []
    },
    {
      "cell_type": "code",
      "metadata": {
        "id": "w7nGQnfARpYy"
      },
      "source": [
        "cm_nb = confusion_matrix(y_test,y_pred)"
      ],
      "execution_count": null,
      "outputs": []
    }
  ]
}